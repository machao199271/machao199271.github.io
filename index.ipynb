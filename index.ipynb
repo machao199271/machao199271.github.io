{
 "cells": [
  {
   "cell_type": "markdown",
   "metadata": {},
   "source": [
<<<<<<< HEAD
    "<img align=\"right\" src=\"https://github.com/machao199271/machao199271.github.io/raw/master/photo.jpg\" title=\"photo\" width=\"200\"/>  \n",
=======
    "<img align=\"right\" src=\"https://github.com/machao199271/machao199271.github.io/raw/master/photo.jpg\" title=\"photo\" width=\"200\"/>    \n",
>>>>>>> parent of 6ac7df6... Delete index.ipynb
    "# **Chao MA （马超）**  \n",
    "I am prusuing PhD degree and exploring non-DNN deep learning with Prof. [Xinghao Ding](https://xmu-smartdsp.github.io/teamindex/xhding.html).  \n",
    "# Contact  \n",
    "machao199271@outlook.com  \n",
    "[Smart Data Analysis and Processing Lab](https://xmu-smartdsp.github.io/index.html), Informatics School, Xiamen University, China"
   ]
  },
  {
   "cell_type": "markdown",
   "metadata": {},
   "source": [
    "---"
   ]
  },
  {
   "cell_type": "markdown",
   "metadata": {},
   "source": [
<<<<<<< HEAD
    "# Education & Experience"
=======
    "# Education"
>>>>>>> parent of 6ac7df6... Delete index.ipynb
   ]
  },
  {
   "cell_type": "markdown",
   "metadata": {},
   "source": [
    "**PhD**: Xiamen University, China (Sept. 2019 - Now)  \n",
    "[Smart Data Analysis and Processing Lab](https://xmu-smartdsp.github.io/index.html), Prof. [Xinghao Ding](https://xmu-smartdsp.github.io/teamindex/xhding.html)"
   ]
  },
  {
   "cell_type": "markdown",
   "metadata": {},
   "source": [
    "**Visiting Student**: National University of Singapore, Singapore (Dec. 2018 – Mar. 2019)  \n",
    "[Centre for Maritime Studies](https://www.maritimestudies.nus.edu.sg/), Research Assis Prof. [Zhiguang Cao](https://www.linkedin.com/in/zhiguang-cao-a727405a/)"
   ]
  },
  {
   "cell_type": "markdown",
   "metadata": {},
   "source": [
    "**Visiting Student**: Nanyang Technological University, Singapore (Mar. 2018 – Dec. 2018)  \n",
    "[Future Mobility Research Lab](http://media.ntu.edu.sg/NewsReleases/Pages/newsdetail.aspx?news=701a928a-0b60-4a41-871a-f65531f836df), Assoc Prof. [Jie Zhang](https://www.ntu.edu.sg/home/zhangj/)"
   ]
  },
  {
   "cell_type": "markdown",
   "metadata": {},
   "source": [
    "**Master**: Guilin University of Electronic Technology, China (Sept. 2016 - Jun. 2019)  \n",
<<<<<<< HEAD
    "Man-machine intelligence lab, Supervisor: Prof. [Zhenbing Liu](https://yjsgl.guet.edu.cn/TeacherInfor.aspx?TID=38D338438BDB6654&TName=DEE7F46B1103965C)"
=======
    "Man-machine intelligence lab  Supervisor: Prof. Zhenbing Liu"
>>>>>>> parent of 6ac7df6... Delete index.ipynb
   ]
  },
  {
   "cell_type": "markdown",
   "metadata": {},
   "source": [
<<<<<<< HEAD
    "**Project Assistant**: Beijing University of Posts and Telecommunications, China (May 2016 - Aug. 2016)  \n",
    "Man-machine intelligence lab, Supervisor: Prof. [Huihua Yang](https://sa.bupt.edu.cn/info/1098/1150.htm) "
=======
    "**Bachelor**: Henan University of Science and Technology, China (Sept. 2011 – Jun. 2015)  \n",
    "Electronic Information Engineering"
>>>>>>> parent of 6ac7df6... Delete index.ipynb
   ]
  },
  {
   "cell_type": "markdown",
   "metadata": {},
   "source": [
<<<<<<< HEAD
    "**Bachelor**: Henan University of Science and Technology, China (Sept. 2011 – Jun. 2015)  \n",
    "Electronic Information Engineering"
=======
    "# Research Interests"
>>>>>>> parent of 6ac7df6... Delete index.ipynb
   ]
  },
  {
   "cell_type": "markdown",
   "metadata": {},
   "source": [
<<<<<<< HEAD
    "# Research Interests"
=======
    "Machine Learning;\tDeep Learning;\tComputer Vision; Data Mining"
>>>>>>> parent of 6ac7df6... Delete index.ipynb
   ]
  },
  {
   "cell_type": "markdown",
   "metadata": {},
   "source": [
<<<<<<< HEAD
    "Machine Learning;\tDeep Learning;\tComputer Vision;  Data Mining"
=======
    "## Publication"
>>>>>>> parent of 6ac7df6... Delete index.ipynb
   ]
  },
  {
   "cell_type": "markdown",
   "metadata": {},
   "source": [
<<<<<<< HEAD
    "# Publication"
=======
    "Zhenbing Liu, **Chao Ma**, Chunyang Gao, Huihua Yang, Tao Xu, Rushi Lan, Xiaonan Luo. Cost-sensitive collaborative representation based classification via probability estimation with addressing the class imbalance[J]. Multimedia Tools and Applications, 2018, 77(9):10835-10851. [[pdf]](https://github.com/machao199271/machao199271.github.io/raw/master/Cost-sensitive%20collaborative%20representation%20based%20classification%20via%20probability%20estimation%20with%20addressing%20the%20class%20imbalance.pdf)"
>>>>>>> parent of 6ac7df6... Delete index.ipynb
   ]
  },
  {
   "cell_type": "markdown",
   "metadata": {},
   "source": [
<<<<<<< HEAD
    "Zhenbing Liu, **Chao Ma**, Chunyang Gao, Huihua Yang, Tao Xu, Rushi Lan, Xiaonan Luo. Cost-sensitive collaborative representation based classification via probability estimation with addressing the class imbalance[J]. Multimedia Tools and Applications, 2018, 77(9):10835-10851. [[pdf]](https://github.com/machao199271/machao199271.github.io/raw/master/Cost-sensitive%20collaborative%20representation%20based%20classification%20via%20probability%20estimation%20with%20addressing%20the%20class%20imbalance.pdf)"
=======
    "Zhenbing Liu, Tao Xu, **Chao Ma**, Chunyang Gao, and Huihua Yang. T-test based Alzheimer’s disease diagnosis with multi-feature in MRIs[J]. Multimedia Tools and Applications, 2018(2):1-17. [[pdf]](https://github.com/machao199271/machao199271.github.io/raw/master/T-test%20based%20Alzheimer%E2%80%99s%20disease%20diagnosis%20with%20multi-feature%20in%20MRIs.pdf)"
>>>>>>> parent of 6ac7df6... Delete index.ipynb
   ]
  },
  {
   "cell_type": "markdown",
   "metadata": {},
   "source": [
<<<<<<< HEAD
    "Zhenbing Liu, Tao Xu, **Chao Ma**, Chunyang Gao, and Huihua Yang. T-test based Alzheimer’s disease diagnosis with multi-feature in MRIs[J]. Multimedia Tools and Applications, 2018(2):1-17. [[pdf]](https://github.com/machao199271/machao199271.github.io/raw/master/T-test%20based%20Alzheimer%E2%80%99s%20disease%20diagnosis%20with%20multi-feature%20in%20MRIs.pdf)"
=======
    "### *Master's Thesis*"
>>>>>>> parent of 6ac7df6... Delete index.ipynb
   ]
  },
  {
   "cell_type": "markdown",
   "metadata": {},
   "source": [
<<<<<<< HEAD
<<<<<<< HEAD
    "**Chao Ma**. Cost-sensitive Machine Learning Algorithm and Optimization in Price Prediction[M]. Guilin University of Electronic Technology, 2019. (**Master's Thesis**) (Chinese) [[pdf]](https://github.com/machao199271/machao199271.github.io/raw/master/Master's%20Thesis.pdf) [[slides]](https://github.com/machao199271/machao199271.github.io/raw/master/Master's%20Defence.pdf)"
=======
    "**Chao Ma**. Cost-sensitive Machine Learning Algorithm and Optimization in Price Prediction[M]. Guilin University of Electronic Technology, 2019. (Chinese) [[pdf]](https://github.com/machao199271/machao199271.github.io/raw/master/Master's%20Thesis.pdf) [[slides]](https://github.com/machao199271/machao199271.github.io/raw/master/Master's%20Defence.pdf)"
>>>>>>> parent of 6ac7df6... Delete index.ipynb
=======
    "**Chao Ma**. Cost-sensitive Machine Learning Algorithm and Optimization in Price Prediction[M]. Guilin University of Electronic Technology, 2019. (**Master's Thesis**) (Chinese) [[pdf]](https://github.com/machao199271/machao199271.github.io/raw/master/Master's%20Thesis.pdf) [[slides]](https://github.com/machao199271/machao199271.github.io/raw/master/Master's%20Defence.pdf)"
>>>>>>> parent of e7d3835... Update index.ipynb
   ]
  },
  {
   "cell_type": "markdown",
   "metadata": {},
   "source": [
<<<<<<< HEAD
    "# Conference"
=======
    "## Conference"
>>>>>>> parent of 6ac7df6... Delete index.ipynb
   ]
  },
  {
   "cell_type": "markdown",
   "metadata": {},
   "source": [
<<<<<<< HEAD
    "2017 13th International Conference on Natural Computation, Fuzzy Systems and Knowledge Discovery (ICNC-FSKD 2017), July 2017, Guilin China. (**Oral**) [[slides]](https://github.com/machao199271/machao199271.github.io/raw/master/Oral%20Presentation-Guilin.pdf)"
=======
    "### *Oral*"
   ]
  },
  {
   "cell_type": "markdown",
   "metadata": {},
   "source": [
    "2017 13th International Conference on Natural Computation, Fuzzy Systems and Knowledge Discovery (ICNC-FSKD 2017), July 2017, Guilin China. [[slides]](https://github.com/machao199271/machao199271.github.io/raw/master/Oral%20Presentation-Guilin.pdf)"
>>>>>>> parent of 6ac7df6... Delete index.ipynb
   ]
  },
  {
   "cell_type": "markdown",
   "metadata": {},
   "source": [
    "# Research Project"
   ]
  },
  {
   "cell_type": "markdown",
   "metadata": {},
   "source": [
<<<<<<< HEAD
    "Innovation Project of Guilin University of Electronic Technology Graduate Education: Cost-Sensitive Cooperative Representation Algorithm in Class Imbalance Problem. (**PI**) (10K CNY)"
=======
    "### *PI*"
>>>>>>> parent of 6ac7df6... Delete index.ipynb
   ]
  },
  {
   "cell_type": "markdown",
   "metadata": {},
   "source": [
<<<<<<< HEAD
    "Guilin University of Electronic Technology Excellent Graduate Thesis Program: Cost-Sensitive Machine Learning Algorithm and Optimization. (**PI**) (5K CNY)"
=======
    "Innovation Project of Guilin University of Electronic Technology Graduate Education: Cost-Sensitive Cooperative Representation Algorithm in Class Imbalance Problem （10K CNY）"
>>>>>>> parent of 6ac7df6... Delete index.ipynb
   ]
  },
  {
   "cell_type": "markdown",
   "metadata": {},
   "source": [
<<<<<<< HEAD
    "# Awards"
=======
    "Guilin University of Electronic Technology Excellent Graduate Thesis Program: Cost-Sensitive Machine Learning Algorithm and Optimization （5K CNY）"
>>>>>>> parent of 6ac7df6... Delete index.ipynb
   ]
  },
  {
   "cell_type": "markdown",
   "metadata": {},
   "source": [
<<<<<<< HEAD
    "National Scholarship for Postgraduate Students, Ministry of Education of China, Nov. 2018"
=======
    "# Awards"
>>>>>>> parent of 6ac7df6... Delete index.ipynb
   ]
  },
  {
   "cell_type": "markdown",
   "metadata": {},
   "source": [
<<<<<<< HEAD
    "Study Abroad Scholarship for Postgraduate Students, Guilin University of Electronic Technology, Jun. 2017"
=======
    "National Scholarship for Postgraduate Students, Ministry of Education of China, Nov. 2018"
>>>>>>> parent of 6ac7df6... Delete index.ipynb
   ]
  },
  {
   "cell_type": "markdown",
   "metadata": {},
   "source": [
<<<<<<< HEAD
    "---"
=======
    "Study Abroad Scholarship for Postgraduate Students, Guilin University of Electronic Technology, Jun. 2017"
>>>>>>> parent of 6ac7df6... Delete index.ipynb
   ]
  }
 ],
 "metadata": {
  "kernelspec": {
   "display_name": "Python 3",
   "language": "python",
   "name": "python3"
  },
  "language_info": {
   "codemirror_mode": {
    "name": "ipython",
    "version": 3
   },
   "file_extension": ".py",
   "mimetype": "text/x-python",
   "name": "python",
   "nbconvert_exporter": "python",
   "pygments_lexer": "ipython3",
   "version": "3.7.0"
  }
 },
 "nbformat": 4,
 "nbformat_minor": 2
}
