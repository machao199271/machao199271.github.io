{
 "cells": [
  {
   "cell_type": "markdown",
   "metadata": {},
   "source": [
    "<img align=\"right\" src=\"https://github.com/machao199271/machao199271.github.io/raw/master/photo.jpg\" title=\"photo\" width=\"200\"/>    \n",
    "# **Chao MA （马超）**  \n",
    "I am prusuing PhD degree and exploring non-DNN deep learning with Prof. [Xinghao Ding](https://xmu-smartdsp.github.io/teamindex/xhding.html).  \n",
    "# Contact  \n",
    "machao199271@outlook.com  \n",
    "[Smart Data Analysis and Processing Lab](https://xmu-smartdsp.github.io/index.html), Informatics School, Xiamen University, China"
   ]
  },
  {
   "cell_type": "markdown",
   "metadata": {},
   "source": [
    "---"
   ]
  },
  {
   "cell_type": "markdown",
   "metadata": {},
   "source": [
    "# Education"
   ]
  },
  {
   "cell_type": "markdown",
   "metadata": {},
   "source": [
    "**PhD**: Xiamen University, China (Sept. 2019 - Now)  \n",
    "[Smart Data Analysis and Processing Lab](https://xmu-smartdsp.github.io/index.html), Prof. [Xinghao Ding](https://xmu-smartdsp.github.io/teamindex/xhding.html)"
   ]
  },
  {
   "cell_type": "markdown",
   "metadata": {},
   "source": [
    "**Visiting Student**: National University of Singapore, Singapore (Dec. 2018 – Mar. 2019)  \n",
    "[Centre for Maritime Studies](https://www.maritimestudies.nus.edu.sg/), Research Assis Prof. [Zhiguang Cao](https://www.linkedin.com/in/zhiguang-cao-a727405a/)"
   ]
  },
  {
   "cell_type": "markdown",
   "metadata": {},
   "source": [
    "**Visiting Student**: Nanyang Technological University, Singapore (Mar. 2018 – Dec. 2018)  \n",
    "[Future Mobility Research Lab](http://media.ntu.edu.sg/NewsReleases/Pages/newsdetail.aspx?news=701a928a-0b60-4a41-871a-f65531f836df), Assoc Prof. [Jie Zhang](https://www.ntu.edu.sg/home/zhangj/)"
   ]
  },
  {
   "cell_type": "markdown",
   "metadata": {},
   "source": [
    "**Master**: Guilin University of Electronic Technology, China (Sept. 2016 - Jun. 2019)  \n",
    "Man-machine intelligence lab  Supervisor: Prof. Zhenbing Liu"
   ]
  },
  {
   "cell_type": "markdown",
   "metadata": {},
   "source": [
    "**Project Assistant**: Beijing University of Posts and Telecommunications, China (May 2016 - Aug. 2019)  \n",
    "Man-machine intelligence lab  Supervisor: Prof. Zhenbing Liu"
   ]
  },
  {
   "cell_type": "markdown",
   "metadata": {},
   "source": [
    "**Bachelor**: Henan University of Science and Technology, China (Sept. 2011 – Jun. 2015)  \n",
    "Electronic Information Engineering"
   ]
  },
  {
   "cell_type": "markdown",
   "metadata": {},
   "source": [
    "# Research Interests"
   ]
  },
  {
   "cell_type": "markdown",
   "metadata": {},
   "source": [
    "Machine Learning;\tDeep Learning;\tComputer Vision; Data Mining"
   ]
  },
  {
   "cell_type": "markdown",
   "metadata": {},
   "source": [
    "## Publication"
   ]
  },
  {
   "cell_type": "markdown",
   "metadata": {},
   "source": [
    "Zhenbing Liu, **Chao Ma**, Chunyang Gao, Huihua Yang, Tao Xu, Rushi Lan, Xiaonan Luo. Cost-sensitive collaborative representation based classification via probability estimation with addressing the class imbalance[J]. Multimedia Tools and Applications, 2018, 77(9):10835-10851. [[pdf]](https://github.com/machao199271/machao199271.github.io/raw/master/Cost-sensitive%20collaborative%20representation%20based%20classification%20via%20probability%20estimation%20with%20addressing%20the%20class%20imbalance.pdf)"
   ]
  },
  {
   "cell_type": "markdown",
   "metadata": {},
   "source": [
    "Zhenbing Liu, Tao Xu, **Chao Ma**, Chunyang Gao, and Huihua Yang. T-test based Alzheimer’s disease diagnosis with multi-feature in MRIs[J]. Multimedia Tools and Applications, 2018(2):1-17. [[pdf]](https://github.com/machao199271/machao199271.github.io/raw/master/T-test%20based%20Alzheimer%E2%80%99s%20disease%20diagnosis%20with%20multi-feature%20in%20MRIs.pdf)"
   ]
  },
  {
   "cell_type": "markdown",
   "metadata": {},
   "source": [
    "### *Master's Thesis*"
   ]
  },
  {
   "cell_type": "markdown",
   "metadata": {},
   "source": [
    "**Chao Ma**. Cost-sensitive Machine Learning Algorithm and Optimization in Price Prediction[M]. Guilin University of Electronic Technology, 2019. (Chinese) [[pdf]](https://github.com/machao199271/machao199271.github.io/raw/master/Master's%20Thesis.pdf) [[slides]](https://github.com/machao199271/machao199271.github.io/raw/master/Master's%20Defence.pdf)"
   ]
  },
  {
   "cell_type": "markdown",
   "metadata": {},
   "source": [
    "## Conference"
   ]
  },
  {
   "cell_type": "markdown",
   "metadata": {},
   "source": [
    "### *Oral*"
   ]
  },
  {
   "cell_type": "markdown",
   "metadata": {},
   "source": [
    "2017 13th International Conference on Natural Computation, Fuzzy Systems and Knowledge Discovery (ICNC-FSKD 2017), July 2017, Guilin China. [[slides]](https://github.com/machao199271/machao199271.github.io/raw/master/Oral%20Presentation-Guilin.pdf)"
   ]
  },
  {
   "cell_type": "markdown",
   "metadata": {},
   "source": [
    "# Research Project"
   ]
  },
  {
   "cell_type": "markdown",
   "metadata": {},
   "source": [
    "### *PI*"
   ]
  },
  {
   "cell_type": "markdown",
   "metadata": {},
   "source": [
    "Innovation Project of Guilin University of Electronic Technology Graduate Education: Cost-Sensitive Cooperative Representation Algorithm in Class Imbalance Problem （10K CNY）"
   ]
  },
  {
   "cell_type": "markdown",
   "metadata": {},
   "source": [
    "Guilin University of Electronic Technology Excellent Graduate Thesis Program: Cost-Sensitive Machine Learning Algorithm and Optimization （5K CNY）"
   ]
  },
  {
   "cell_type": "markdown",
   "metadata": {},
   "source": [
    "# Awards"
   ]
  },
  {
   "cell_type": "markdown",
   "metadata": {},
   "source": [
    "National Scholarship for Postgraduate Students, Ministry of Education of China, Nov. 2018"
   ]
  },
  {
   "cell_type": "markdown",
   "metadata": {},
   "source": [
    "Study Abroad Scholarship for Postgraduate Students, Guilin University of Electronic Technology, Jun. 2017"
   ]
  }
 ],
 "metadata": {
  "kernelspec": {
   "display_name": "Python 3",
   "language": "python",
   "name": "python3"
  },
  "language_info": {
   "codemirror_mode": {
    "name": "ipython",
    "version": 3
   },
   "file_extension": ".py",
   "mimetype": "text/x-python",
   "name": "python",
   "nbconvert_exporter": "python",
   "pygments_lexer": "ipython3",
   "version": "3.7.0"
  }
 },
 "nbformat": 4,
 "nbformat_minor": 2
}
